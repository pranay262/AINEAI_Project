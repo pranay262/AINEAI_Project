{
 "cells": [
  {
   "cell_type": "code",
   "execution_count": 8,
   "metadata": {},
   "outputs": [],
   "source": [
    "import random\n",
    "from enum import IntEnum\n",
    "\n",
    "class Action(IntEnum):  #Enum assigns integer values to strings\n",
    "    Rock = 0\n",
    "    Paper = 1\n",
    "    Scissors = 2"
   ]
  },
  {
   "cell_type": "code",
   "execution_count": 11,
   "metadata": {},
   "outputs": [
    {
     "name": "stdout",
     "output_type": "stream",
     "text": [
      "Enter a choice (rock[0], paper[1], scissors[2]): 0\n",
      "\n",
      "You chose Rock, computer chose Paper.\n",
      "\n",
      "Paper covers rock! You lose.\n",
      "Play again? (y/n): y\n",
      "Enter a choice (rock[0], paper[1], scissors[2]): 2\n",
      "\n",
      "You chose Scissors, computer chose Rock.\n",
      "\n",
      "Rock smashes scissors! You lose.\n",
      "Play again? (y/n): y\n",
      "Enter a choice (rock[0], paper[1], scissors[2]): 2\n",
      "\n",
      "You chose Scissors, computer chose Paper.\n",
      "\n",
      "Scissors cuts paper! You win!\n",
      "Play again? (y/n): n\n"
     ]
    }
   ],
   "source": [
    "while True:   #while loop\n",
    "    user_input = input(\"Enter a choice (rock[0], paper[1], scissors[2]): \") #Accepting user input\n",
    "    user_action = int(user_input)  #takes integer values\n",
    "    action = Action(user_action).name\n",
    "    possible_actions = [\"rock\", \"paper\", \"scissors\"]\n",
    "    computer_action = random.randint(0, len(Action) - 1)\n",
    "    comp_action= Action(computer_action).name\n",
    "    print(f\"\\nYou chose {action}, computer chose {comp_action}.\\n\")\n",
    "\n",
    "    if user_action == computer_action:      #comparison check\n",
    "        print(f\"Both players selected {action}. It's a tie!\")\n",
    "    elif user_action == Action.Rock:  #else if condition\n",
    "        if computer_action == Action.Scissors:  #nested if condition\n",
    "            print(\"Rock smashes scissors! You win!\")\n",
    "        else:\n",
    "            print(\"Paper covers rock! You lose.\")\n",
    "    elif user_action == Action.Paper:\n",
    "        if computer_action == Action.Rock:\n",
    "            print(\"Paper covers rock! You win!\")\n",
    "        else:\n",
    "            print(\"Scissors cuts paper! You lose.\")\n",
    "    elif user_action == Action.Scissors:\n",
    "        if computer_action == Action.Paper:\n",
    "            print(\"Scissors cuts paper! You win!\")\n",
    "        else:\n",
    "            print(\"Rock smashes scissors! You lose.\")\n",
    "\n",
    "    play_again = input(\"Play again? (y/n): \")  #for repeating the game\n",
    "    if play_again.lower() != \"y\":\n",
    "        break  #break statement "
   ]
  },
  {
   "cell_type": "code",
   "execution_count": null,
   "metadata": {},
   "outputs": [],
   "source": []
  }
 ],
 "metadata": {
  "kernelspec": {
   "display_name": "Python 3",
   "language": "python",
   "name": "python3"
  },
  "language_info": {
   "codemirror_mode": {
    "name": "ipython",
    "version": 3
   },
   "file_extension": ".py",
   "mimetype": "text/x-python",
   "name": "python",
   "nbconvert_exporter": "python",
   "pygments_lexer": "ipython3",
   "version": "3.7.3"
  }
 },
 "nbformat": 4,
 "nbformat_minor": 2
}

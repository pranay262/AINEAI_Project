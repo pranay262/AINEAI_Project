{
  "nbformat": 4,
  "nbformat_minor": 0,
  "metadata": {
    "kernelspec": {
      "display_name": "Python 3",
      "language": "python",
      "name": "python3"
    },
    "language_info": {
      "codemirror_mode": {
        "name": "ipython",
        "version": 3
      },
      "file_extension": ".py",
      "mimetype": "text/x-python",
      "name": "python",
      "nbconvert_exporter": "python",
      "pygments_lexer": "ipython3",
      "version": "3.8.5"
    },
    "colab": {
      "name": "Project 8 AINE_AI.ipynb",
      "provenance": [],
      "collapsed_sections": [
        "b34fvkuvlFId"
      ]
    }
  },
  "cells": [
    {
      "cell_type": "markdown",
      "metadata": {
        "id": "WWbqxNLZlFII"
      },
      "source": [
        "# Project 8: Machine Learning for Predictive Analytics"
      ]
    },
    {
      "cell_type": "markdown",
      "metadata": {
        "id": "oBGoG-FOHX8b"
      },
      "source": [
        "The project relates to applying predictive analytics on customer churn. A major telecom company’s postpaid business of voice-only plans is struggling to maintain its strong foothold in local market because of:\n",
        "-\tHigh churn rate amongst customers leading to a revenue decline of ~500k USD every month\n",
        "-\tDecline in overall customer base (high churn rate combined with low acquisition rate), leading to a decline in total market share\n"
      ]
    },
    {
      "cell_type": "markdown",
      "metadata": {
        "id": "6C94PizlHdlP"
      },
      "source": [
        "Aim: \n",
        "1.\tBuild a classification model to predict churners one month in advance\n",
        "2.\tIdentify key churn drivers\n"
      ]
    },
    {
      "cell_type": "markdown",
      "metadata": {
        "id": "RCrmVhYDlFIJ"
      },
      "source": [
        "## Packages and setup"
      ]
    },
    {
      "cell_type": "code",
      "metadata": {
        "id": "duCWbBPRlFIK"
      },
      "source": [
        "import numpy as np\n",
        "import pandas as pd \n",
        "import seaborn as sns\n",
        "import matplotlib.pyplot as plt\n",
        "import os\n",
        "\n",
        "from scipy.stats import shapiro\n",
        "import scipy.stats as stats\n",
        "\n",
        "#parameter settings\n",
        "from IPython.core.interactiveshell import InteractiveShell\n",
        "InteractiveShell.ast_node_interactivity = \"all\"\n",
        "import warnings\n",
        "warnings.filterwarnings(\"ignore\")\n",
        "warnings.simplefilter(action='ignore', category=FutureWarning)"
      ],
      "execution_count": null,
      "outputs": []
    },
    {
      "cell_type": "markdown",
      "metadata": {
        "id": "VoDtZpyJlFIK"
      },
      "source": [
        "## Reading data and initial processing"
      ]
    },
    {
      "cell_type": "code",
      "metadata": {
        "colab": {
          "resources": {
            "http://localhost:8080/nbextensions/google.colab/files.js": {
              "data": "Ly8gQ29weXJpZ2h0IDIwMTcgR29vZ2xlIExMQwovLwovLyBMaWNlbnNlZCB1bmRlciB0aGUgQXBhY2hlIExpY2Vuc2UsIFZlcnNpb24gMi4wICh0aGUgIkxpY2Vuc2UiKTsKLy8geW91IG1heSBub3QgdXNlIHRoaXMgZmlsZSBleGNlcHQgaW4gY29tcGxpYW5jZSB3aXRoIHRoZSBMaWNlbnNlLgovLyBZb3UgbWF5IG9idGFpbiBhIGNvcHkgb2YgdGhlIExpY2Vuc2UgYXQKLy8KLy8gICAgICBodHRwOi8vd3d3LmFwYWNoZS5vcmcvbGljZW5zZXMvTElDRU5TRS0yLjAKLy8KLy8gVW5sZXNzIHJlcXVpcmVkIGJ5IGFwcGxpY2FibGUgbGF3IG9yIGFncmVlZCB0byBpbiB3cml0aW5nLCBzb2Z0d2FyZQovLyBkaXN0cmlidXRlZCB1bmRlciB0aGUgTGljZW5zZSBpcyBkaXN0cmlidXRlZCBvbiBhbiAiQVMgSVMiIEJBU0lTLAovLyBXSVRIT1VUIFdBUlJBTlRJRVMgT1IgQ09ORElUSU9OUyBPRiBBTlkgS0lORCwgZWl0aGVyIGV4cHJlc3Mgb3IgaW1wbGllZC4KLy8gU2VlIHRoZSBMaWNlbnNlIGZvciB0aGUgc3BlY2lmaWMgbGFuZ3VhZ2UgZ292ZXJuaW5nIHBlcm1pc3Npb25zIGFuZAovLyBsaW1pdGF0aW9ucyB1bmRlciB0aGUgTGljZW5zZS4KCi8qKgogKiBAZmlsZW92ZXJ2aWV3IEhlbHBlcnMgZm9yIGdvb2dsZS5jb2xhYiBQeXRob24gbW9kdWxlLgogKi8KKGZ1bmN0aW9uKHNjb3BlKSB7CmZ1bmN0aW9uIHNwYW4odGV4dCwgc3R5bGVBdHRyaWJ1dGVzID0ge30pIHsKICBjb25zdCBlbGVtZW50ID0gZG9jdW1lbnQuY3JlYXRlRWxlbWVudCgnc3BhbicpOwogIGVsZW1lbnQudGV4dENvbnRlbnQgPSB0ZXh0OwogIGZvciAoY29uc3Qga2V5IG9mIE9iamVjdC5rZXlzKHN0eWxlQXR0cmlidXRlcykpIHsKICAgIGVsZW1lbnQuc3R5bGVba2V5XSA9IHN0eWxlQXR0cmlidXRlc1trZXldOwogIH0KICByZXR1cm4gZWxlbWVudDsKfQoKLy8gTWF4IG51bWJlciBvZiBieXRlcyB3aGljaCB3aWxsIGJlIHVwbG9hZGVkIGF0IGEgdGltZS4KY29uc3QgTUFYX1BBWUxPQURfU0laRSA9IDEwMCAqIDEwMjQ7CgpmdW5jdGlvbiBfdXBsb2FkRmlsZXMoaW5wdXRJZCwgb3V0cHV0SWQpIHsKICBjb25zdCBzdGVwcyA9IHVwbG9hZEZpbGVzU3RlcChpbnB1dElkLCBvdXRwdXRJZCk7CiAgY29uc3Qgb3V0cHV0RWxlbWVudCA9IGRvY3VtZW50LmdldEVsZW1lbnRCeUlkKG91dHB1dElkKTsKICAvLyBDYWNoZSBzdGVwcyBvbiB0aGUgb3V0cHV0RWxlbWVudCB0byBtYWtlIGl0IGF2YWlsYWJsZSBmb3IgdGhlIG5leHQgY2FsbAogIC8vIHRvIHVwbG9hZEZpbGVzQ29udGludWUgZnJvbSBQeXRob24uCiAgb3V0cHV0RWxlbWVudC5zdGVwcyA9IHN0ZXBzOwoKICByZXR1cm4gX3VwbG9hZEZpbGVzQ29udGludWUob3V0cHV0SWQpOwp9CgovLyBUaGlzIGlzIHJvdWdobHkgYW4gYXN5bmMgZ2VuZXJhdG9yIChub3Qgc3VwcG9ydGVkIGluIHRoZSBicm93c2VyIHlldCksCi8vIHdoZXJlIHRoZXJlIGFyZSBtdWx0aXBsZSBhc3luY2hyb25vdXMgc3RlcHMgYW5kIHRoZSBQeXRob24gc2lkZSBpcyBnb2luZwovLyB0byBwb2xsIGZvciBjb21wbGV0aW9uIG9mIGVhY2ggc3RlcC4KLy8gVGhpcyB1c2VzIGEgUHJvbWlzZSB0byBibG9jayB0aGUgcHl0aG9uIHNpZGUgb24gY29tcGxldGlvbiBvZiBlYWNoIHN0ZXAsCi8vIHRoZW4gcGFzc2VzIHRoZSByZXN1bHQgb2YgdGhlIHByZXZpb3VzIHN0ZXAgYXMgdGhlIGlucHV0IHRvIHRoZSBuZXh0IHN0ZXAuCmZ1bmN0aW9uIF91cGxvYWRGaWxlc0NvbnRpbnVlKG91dHB1dElkKSB7CiAgY29uc3Qgb3V0cHV0RWxlbWVudCA9IGRvY3VtZW50LmdldEVsZW1lbnRCeUlkKG91dHB1dElkKTsKICBjb25zdCBzdGVwcyA9IG91dHB1dEVsZW1lbnQuc3RlcHM7CgogIGNvbnN0IG5leHQgPSBzdGVwcy5uZXh0KG91dHB1dEVsZW1lbnQubGFzdFByb21pc2VWYWx1ZSk7CiAgcmV0dXJuIFByb21pc2UucmVzb2x2ZShuZXh0LnZhbHVlLnByb21pc2UpLnRoZW4oKHZhbHVlKSA9PiB7CiAgICAvLyBDYWNoZSB0aGUgbGFzdCBwcm9taXNlIHZhbHVlIHRvIG1ha2UgaXQgYXZhaWxhYmxlIHRvIHRoZSBuZXh0CiAgICAvLyBzdGVwIG9mIHRoZSBnZW5lcmF0b3IuCiAgICBvdXRwdXRFbGVtZW50Lmxhc3RQcm9taXNlVmFsdWUgPSB2YWx1ZTsKICAgIHJldHVybiBuZXh0LnZhbHVlLnJlc3BvbnNlOwogIH0pOwp9CgovKioKICogR2VuZXJhdG9yIGZ1bmN0aW9uIHdoaWNoIGlzIGNhbGxlZCBiZXR3ZWVuIGVhY2ggYXN5bmMgc3RlcCBvZiB0aGUgdXBsb2FkCiAqIHByb2Nlc3MuCiAqIEBwYXJhbSB7c3RyaW5nfSBpbnB1dElkIEVsZW1lbnQgSUQgb2YgdGhlIGlucHV0IGZpbGUgcGlja2VyIGVsZW1lbnQuCiAqIEBwYXJhbSB7c3RyaW5nfSBvdXRwdXRJZCBFbGVtZW50IElEIG9mIHRoZSBvdXRwdXQgZGlzcGxheS4KICogQHJldHVybiB7IUl0ZXJhYmxlPCFPYmplY3Q+fSBJdGVyYWJsZSBvZiBuZXh0IHN0ZXBzLgogKi8KZnVuY3Rpb24qIHVwbG9hZEZpbGVzU3RlcChpbnB1dElkLCBvdXRwdXRJZCkgewogIGNvbnN0IGlucHV0RWxlbWVudCA9IGRvY3VtZW50LmdldEVsZW1lbnRCeUlkKGlucHV0SWQpOwogIGlucHV0RWxlbWVudC5kaXNhYmxlZCA9IGZhbHNlOwoKICBjb25zdCBvdXRwdXRFbGVtZW50ID0gZG9jdW1lbnQuZ2V0RWxlbWVudEJ5SWQob3V0cHV0SWQpOwogIG91dHB1dEVsZW1lbnQuaW5uZXJIVE1MID0gJyc7CgogIGNvbnN0IHBpY2tlZFByb21pc2UgPSBuZXcgUHJvbWlzZSgocmVzb2x2ZSkgPT4gewogICAgaW5wdXRFbGVtZW50LmFkZEV2ZW50TGlzdGVuZXIoJ2NoYW5nZScsIChlKSA9PiB7CiAgICAgIHJlc29sdmUoZS50YXJnZXQuZmlsZXMpOwogICAgfSk7CiAgfSk7CgogIGNvbnN0IGNhbmNlbCA9IGRvY3VtZW50LmNyZWF0ZUVsZW1lbnQoJ2J1dHRvbicpOwogIGlucHV0RWxlbWVudC5wYXJlbnRFbGVtZW50LmFwcGVuZENoaWxkKGNhbmNlbCk7CiAgY2FuY2VsLnRleHRDb250ZW50ID0gJ0NhbmNlbCB1cGxvYWQnOwogIGNvbnN0IGNhbmNlbFByb21pc2UgPSBuZXcgUHJvbWlzZSgocmVzb2x2ZSkgPT4gewogICAgY2FuY2VsLm9uY2xpY2sgPSAoKSA9PiB7CiAgICAgIHJlc29sdmUobnVsbCk7CiAgICB9OwogIH0pOwoKICAvLyBXYWl0IGZvciB0aGUgdXNlciB0byBwaWNrIHRoZSBmaWxlcy4KICBjb25zdCBmaWxlcyA9IHlpZWxkIHsKICAgIHByb21pc2U6IFByb21pc2UucmFjZShbcGlja2VkUHJvbWlzZSwgY2FuY2VsUHJvbWlzZV0pLAogICAgcmVzcG9uc2U6IHsKICAgICAgYWN0aW9uOiAnc3RhcnRpbmcnLAogICAgfQogIH07CgogIGNhbmNlbC5yZW1vdmUoKTsKCiAgLy8gRGlzYWJsZSB0aGUgaW5wdXQgZWxlbWVudCBzaW5jZSBmdXJ0aGVyIHBpY2tzIGFyZSBub3QgYWxsb3dlZC4KICBpbnB1dEVsZW1lbnQuZGlzYWJsZWQgPSB0cnVlOwoKICBpZiAoIWZpbGVzKSB7CiAgICByZXR1cm4gewogICAgICByZXNwb25zZTogewogICAgICAgIGFjdGlvbjogJ2NvbXBsZXRlJywKICAgICAgfQogICAgfTsKICB9CgogIGZvciAoY29uc3QgZmlsZSBvZiBmaWxlcykgewogICAgY29uc3QgbGkgPSBkb2N1bWVudC5jcmVhdGVFbGVtZW50KCdsaScpOwogICAgbGkuYXBwZW5kKHNwYW4oZmlsZS5uYW1lLCB7Zm9udFdlaWdodDogJ2JvbGQnfSkpOwogICAgbGkuYXBwZW5kKHNwYW4oCiAgICAgICAgYCgke2ZpbGUudHlwZSB8fCAnbi9hJ30pIC0gJHtmaWxlLnNpemV9IGJ5dGVzLCBgICsKICAgICAgICBgbGFzdCBtb2RpZmllZDogJHsKICAgICAgICAgICAgZmlsZS5sYXN0TW9kaWZpZWREYXRlID8gZmlsZS5sYXN0TW9kaWZpZWREYXRlLnRvTG9jYWxlRGF0ZVN0cmluZygpIDoKICAgICAgICAgICAgICAgICAgICAgICAgICAgICAgICAgICAgJ24vYSd9IC0gYCkpOwogICAgY29uc3QgcGVyY2VudCA9IHNwYW4oJzAlIGRvbmUnKTsKICAgIGxpLmFwcGVuZENoaWxkKHBlcmNlbnQpOwoKICAgIG91dHB1dEVsZW1lbnQuYXBwZW5kQ2hpbGQobGkpOwoKICAgIGNvbnN0IGZpbGVEYXRhUHJvbWlzZSA9IG5ldyBQcm9taXNlKChyZXNvbHZlKSA9PiB7CiAgICAgIGNvbnN0IHJlYWRlciA9IG5ldyBGaWxlUmVhZGVyKCk7CiAgICAgIHJlYWRlci5vbmxvYWQgPSAoZSkgPT4gewogICAgICAgIHJlc29sdmUoZS50YXJnZXQucmVzdWx0KTsKICAgICAgfTsKICAgICAgcmVhZGVyLnJlYWRBc0FycmF5QnVmZmVyKGZpbGUpOwogICAgfSk7CiAgICAvLyBXYWl0IGZvciB0aGUgZGF0YSB0byBiZSByZWFkeS4KICAgIGxldCBmaWxlRGF0YSA9IHlpZWxkIHsKICAgICAgcHJvbWlzZTogZmlsZURhdGFQcm9taXNlLAogICAgICByZXNwb25zZTogewogICAgICAgIGFjdGlvbjogJ2NvbnRpbnVlJywKICAgICAgfQogICAgfTsKCiAgICAvLyBVc2UgYSBjaHVua2VkIHNlbmRpbmcgdG8gYXZvaWQgbWVzc2FnZSBzaXplIGxpbWl0cy4gU2VlIGIvNjIxMTU2NjAuCiAgICBsZXQgcG9zaXRpb24gPSAwOwogICAgZG8gewogICAgICBjb25zdCBsZW5ndGggPSBNYXRoLm1pbihmaWxlRGF0YS5ieXRlTGVuZ3RoIC0gcG9zaXRpb24sIE1BWF9QQVlMT0FEX1NJWkUpOwogICAgICBjb25zdCBjaHVuayA9IG5ldyBVaW50OEFycmF5KGZpbGVEYXRhLCBwb3NpdGlvbiwgbGVuZ3RoKTsKICAgICAgcG9zaXRpb24gKz0gbGVuZ3RoOwoKICAgICAgY29uc3QgYmFzZTY0ID0gYnRvYShTdHJpbmcuZnJvbUNoYXJDb2RlLmFwcGx5KG51bGwsIGNodW5rKSk7CiAgICAgIHlpZWxkIHsKICAgICAgICByZXNwb25zZTogewogICAgICAgICAgYWN0aW9uOiAnYXBwZW5kJywKICAgICAgICAgIGZpbGU6IGZpbGUubmFtZSwKICAgICAgICAgIGRhdGE6IGJhc2U2NCwKICAgICAgICB9LAogICAgICB9OwoKICAgICAgbGV0IHBlcmNlbnREb25lID0gZmlsZURhdGEuYnl0ZUxlbmd0aCA9PT0gMCA/CiAgICAgICAgICAxMDAgOgogICAgICAgICAgTWF0aC5yb3VuZCgocG9zaXRpb24gLyBmaWxlRGF0YS5ieXRlTGVuZ3RoKSAqIDEwMCk7CiAgICAgIHBlcmNlbnQudGV4dENvbnRlbnQgPSBgJHtwZXJjZW50RG9uZX0lIGRvbmVgOwoKICAgIH0gd2hpbGUgKHBvc2l0aW9uIDwgZmlsZURhdGEuYnl0ZUxlbmd0aCk7CiAgfQoKICAvLyBBbGwgZG9uZS4KICB5aWVsZCB7CiAgICByZXNwb25zZTogewogICAgICBhY3Rpb246ICdjb21wbGV0ZScsCiAgICB9CiAgfTsKfQoKc2NvcGUuZ29vZ2xlID0gc2NvcGUuZ29vZ2xlIHx8IHt9OwpzY29wZS5nb29nbGUuY29sYWIgPSBzY29wZS5nb29nbGUuY29sYWIgfHwge307CnNjb3BlLmdvb2dsZS5jb2xhYi5fZmlsZXMgPSB7CiAgX3VwbG9hZEZpbGVzLAogIF91cGxvYWRGaWxlc0NvbnRpbnVlLAp9Owp9KShzZWxmKTsK",
              "ok": true,
              "headers": [
                [
                  "content-type",
                  "application/javascript"
                ]
              ],
              "status": 200,
              "status_text": ""
            }
          },
          "base_uri": "https://localhost:8080/",
          "height": 73
        },
        "id": "oqxyZdUWW7_4",
        "outputId": "4ada796f-3239-4e1e-fddb-c2c4d0437b27"
      },
      "source": [
        "#edit the file location of raw data set\n",
        "from google.colab import files\n",
        "uploaded = files.upload()"
      ],
      "execution_count": null,
      "outputs": [
        {
          "output_type": "display_data",
          "data": {
            "text/html": [
              "\n",
              "     <input type=\"file\" id=\"files-12216a03-58e5-4622-b8fe-c936fd556b37\" name=\"files[]\" multiple disabled\n",
              "        style=\"border:none\" />\n",
              "     <output id=\"result-12216a03-58e5-4622-b8fe-c936fd556b37\">\n",
              "      Upload widget is only available when the cell has been executed in the\n",
              "      current browser session. Please rerun this cell to enable.\n",
              "      </output>\n",
              "      <script src=\"/nbextensions/google.colab/files.js\"></script> "
            ],
            "text/plain": [
              "<IPython.core.display.HTML object>"
            ]
          },
          "metadata": {}
        },
        {
          "output_type": "stream",
          "name": "stdout",
          "text": [
            "Saving Telecom Data.csv to Telecom Data (1).csv\n"
          ]
        }
      ]
    },
    {
      "cell_type": "code",
      "metadata": {
        "colab": {
          "base_uri": "https://localhost:8080/",
          "height": 222
        },
        "id": "6uazrhHNV40X",
        "outputId": "40d0853d-bcfc-41d0-f14a-6593a025c2f3"
      },
      "source": [
        "#edit the file location of raw data set\n",
        "import io\n",
        "cust_df = pd.read_csv(io.BytesIO(uploaded['Telecom Data.csv'])) \n",
        "cust_df.head()"
      ],
      "execution_count": null,
      "outputs": [
        {
          "output_type": "execute_result",
          "data": {
            "text/html": [
              "<div>\n",
              "<style scoped>\n",
              "    .dataframe tbody tr th:only-of-type {\n",
              "        vertical-align: middle;\n",
              "    }\n",
              "\n",
              "    .dataframe tbody tr th {\n",
              "        vertical-align: top;\n",
              "    }\n",
              "\n",
              "    .dataframe thead th {\n",
              "        text-align: right;\n",
              "    }\n",
              "</style>\n",
              "<table border=\"1\" class=\"dataframe\">\n",
              "  <thead>\n",
              "    <tr style=\"text-align: right;\">\n",
              "      <th></th>\n",
              "      <th>CustomerID</th>\n",
              "      <th>Churn</th>\n",
              "      <th>MonthlyRevenue</th>\n",
              "      <th>MonthlyMinutes</th>\n",
              "      <th>TotalRecurringCharge</th>\n",
              "      <th>DirectorAssistedCalls</th>\n",
              "      <th>OverageMinutes</th>\n",
              "      <th>RoamingCalls</th>\n",
              "      <th>PercChangeMinutes</th>\n",
              "      <th>PercChangeRevenues</th>\n",
              "      <th>DroppedCalls</th>\n",
              "      <th>BlockedCalls</th>\n",
              "      <th>UnansweredCalls</th>\n",
              "      <th>CustomerCareCalls</th>\n",
              "      <th>ThreewayCalls</th>\n",
              "      <th>ReceivedCalls</th>\n",
              "      <th>OutboundCalls</th>\n",
              "      <th>InboundCalls</th>\n",
              "      <th>PeakCallsInOut</th>\n",
              "      <th>OffPeakCallsInOut</th>\n",
              "      <th>DroppedBlockedCalls</th>\n",
              "      <th>CallForwardingCalls</th>\n",
              "      <th>CallWaitingCalls</th>\n",
              "      <th>MonthsInService</th>\n",
              "      <th>UniqueSubs</th>\n",
              "      <th>ActiveSubs</th>\n",
              "      <th>ServiceArea</th>\n",
              "      <th>Handsets</th>\n",
              "      <th>HandsetModels</th>\n",
              "      <th>CurrentEquipmentDays</th>\n",
              "      <th>AgeHH1</th>\n",
              "      <th>AgeHH2</th>\n",
              "      <th>ChildrenInHH</th>\n",
              "      <th>HandsetRefurbished</th>\n",
              "      <th>HandsetWebCapable</th>\n",
              "      <th>TruckOwner</th>\n",
              "      <th>RVOwner</th>\n",
              "      <th>Homeownership</th>\n",
              "      <th>BuysViaMailOrder</th>\n",
              "      <th>RespondsToMailOffers</th>\n",
              "      <th>OptOutMailings</th>\n",
              "      <th>NonUSTravel</th>\n",
              "      <th>OwnsComputer</th>\n",
              "      <th>HasCreditCard</th>\n",
              "      <th>RetentionCalls</th>\n",
              "      <th>RetentionOffersAccepted</th>\n",
              "      <th>NewCellphoneUser</th>\n",
              "      <th>NotNewCellphoneUser</th>\n",
              "      <th>ReferralsMadeBySubscriber</th>\n",
              "      <th>IncomeGroup</th>\n",
              "      <th>OwnsMotorcycle</th>\n",
              "      <th>AdjustmentsToCreditRating</th>\n",
              "      <th>HandsetPrice</th>\n",
              "      <th>MadeCallToRetentionTeam</th>\n",
              "      <th>CreditRating</th>\n",
              "      <th>PrizmCode</th>\n",
              "      <th>Occupation</th>\n",
              "      <th>MaritalStatus</th>\n",
              "    </tr>\n",
              "  </thead>\n",
              "  <tbody>\n",
              "    <tr>\n",
              "      <th>0</th>\n",
              "      <td>3000002</td>\n",
              "      <td>Yes</td>\n",
              "      <td>24.00</td>\n",
              "      <td>219.0</td>\n",
              "      <td>22.0</td>\n",
              "      <td>0.25</td>\n",
              "      <td>0.0</td>\n",
              "      <td>0.0</td>\n",
              "      <td>-157.0</td>\n",
              "      <td>-19.0</td>\n",
              "      <td>0.7</td>\n",
              "      <td>0.7</td>\n",
              "      <td>6.3</td>\n",
              "      <td>0.0</td>\n",
              "      <td>0.0</td>\n",
              "      <td>97.2</td>\n",
              "      <td>0.0</td>\n",
              "      <td>0.0</td>\n",
              "      <td>58.0</td>\n",
              "      <td>24.0</td>\n",
              "      <td>1.3</td>\n",
              "      <td>0.0</td>\n",
              "      <td>0.3</td>\n",
              "      <td>61</td>\n",
              "      <td>2</td>\n",
              "      <td>1</td>\n",
              "      <td>SEAPOR503</td>\n",
              "      <td>2.0</td>\n",
              "      <td>2.0</td>\n",
              "      <td>361.0</td>\n",
              "      <td>62.0</td>\n",
              "      <td>0.0</td>\n",
              "      <td>No</td>\n",
              "      <td>No</td>\n",
              "      <td>Yes</td>\n",
              "      <td>No</td>\n",
              "      <td>No</td>\n",
              "      <td>Known</td>\n",
              "      <td>Yes</td>\n",
              "      <td>Yes</td>\n",
              "      <td>No</td>\n",
              "      <td>No</td>\n",
              "      <td>Yes</td>\n",
              "      <td>Yes</td>\n",
              "      <td>1</td>\n",
              "      <td>0</td>\n",
              "      <td>No</td>\n",
              "      <td>No</td>\n",
              "      <td>0</td>\n",
              "      <td>4</td>\n",
              "      <td>No</td>\n",
              "      <td>0</td>\n",
              "      <td>30</td>\n",
              "      <td>Yes</td>\n",
              "      <td>1-Highest</td>\n",
              "      <td>Suburban</td>\n",
              "      <td>Professional</td>\n",
              "      <td>No</td>\n",
              "    </tr>\n",
              "    <tr>\n",
              "      <th>1</th>\n",
              "      <td>3000010</td>\n",
              "      <td>Yes</td>\n",
              "      <td>16.99</td>\n",
              "      <td>10.0</td>\n",
              "      <td>17.0</td>\n",
              "      <td>0.00</td>\n",
              "      <td>0.0</td>\n",
              "      <td>0.0</td>\n",
              "      <td>-4.0</td>\n",
              "      <td>0.0</td>\n",
              "      <td>0.3</td>\n",
              "      <td>0.0</td>\n",
              "      <td>2.7</td>\n",
              "      <td>0.0</td>\n",
              "      <td>0.0</td>\n",
              "      <td>0.0</td>\n",
              "      <td>0.0</td>\n",
              "      <td>0.0</td>\n",
              "      <td>5.0</td>\n",
              "      <td>1.0</td>\n",
              "      <td>0.3</td>\n",
              "      <td>0.0</td>\n",
              "      <td>0.0</td>\n",
              "      <td>58</td>\n",
              "      <td>1</td>\n",
              "      <td>1</td>\n",
              "      <td>PITHOM412</td>\n",
              "      <td>2.0</td>\n",
              "      <td>1.0</td>\n",
              "      <td>1504.0</td>\n",
              "      <td>40.0</td>\n",
              "      <td>42.0</td>\n",
              "      <td>Yes</td>\n",
              "      <td>No</td>\n",
              "      <td>No</td>\n",
              "      <td>No</td>\n",
              "      <td>No</td>\n",
              "      <td>Known</td>\n",
              "      <td>Yes</td>\n",
              "      <td>Yes</td>\n",
              "      <td>No</td>\n",
              "      <td>No</td>\n",
              "      <td>Yes</td>\n",
              "      <td>Yes</td>\n",
              "      <td>0</td>\n",
              "      <td>0</td>\n",
              "      <td>Yes</td>\n",
              "      <td>No</td>\n",
              "      <td>0</td>\n",
              "      <td>5</td>\n",
              "      <td>No</td>\n",
              "      <td>0</td>\n",
              "      <td>30</td>\n",
              "      <td>No</td>\n",
              "      <td>4-Medium</td>\n",
              "      <td>Suburban</td>\n",
              "      <td>Professional</td>\n",
              "      <td>Yes</td>\n",
              "    </tr>\n",
              "    <tr>\n",
              "      <th>2</th>\n",
              "      <td>3000014</td>\n",
              "      <td>No</td>\n",
              "      <td>38.00</td>\n",
              "      <td>8.0</td>\n",
              "      <td>38.0</td>\n",
              "      <td>0.00</td>\n",
              "      <td>0.0</td>\n",
              "      <td>0.0</td>\n",
              "      <td>-2.0</td>\n",
              "      <td>0.0</td>\n",
              "      <td>0.0</td>\n",
              "      <td>0.0</td>\n",
              "      <td>0.0</td>\n",
              "      <td>0.0</td>\n",
              "      <td>0.0</td>\n",
              "      <td>0.4</td>\n",
              "      <td>0.3</td>\n",
              "      <td>0.0</td>\n",
              "      <td>1.3</td>\n",
              "      <td>3.7</td>\n",
              "      <td>0.0</td>\n",
              "      <td>0.0</td>\n",
              "      <td>0.0</td>\n",
              "      <td>60</td>\n",
              "      <td>1</td>\n",
              "      <td>1</td>\n",
              "      <td>MILMIL414</td>\n",
              "      <td>1.0</td>\n",
              "      <td>1.0</td>\n",
              "      <td>1812.0</td>\n",
              "      <td>26.0</td>\n",
              "      <td>26.0</td>\n",
              "      <td>Yes</td>\n",
              "      <td>No</td>\n",
              "      <td>No</td>\n",
              "      <td>No</td>\n",
              "      <td>No</td>\n",
              "      <td>Unknown</td>\n",
              "      <td>No</td>\n",
              "      <td>No</td>\n",
              "      <td>No</td>\n",
              "      <td>No</td>\n",
              "      <td>No</td>\n",
              "      <td>Yes</td>\n",
              "      <td>0</td>\n",
              "      <td>0</td>\n",
              "      <td>Yes</td>\n",
              "      <td>No</td>\n",
              "      <td>0</td>\n",
              "      <td>6</td>\n",
              "      <td>No</td>\n",
              "      <td>0</td>\n",
              "      <td>Unknown</td>\n",
              "      <td>No</td>\n",
              "      <td>3-Good</td>\n",
              "      <td>Town</td>\n",
              "      <td>Crafts</td>\n",
              "      <td>Yes</td>\n",
              "    </tr>\n",
              "    <tr>\n",
              "      <th>3</th>\n",
              "      <td>3000022</td>\n",
              "      <td>No</td>\n",
              "      <td>82.28</td>\n",
              "      <td>1312.0</td>\n",
              "      <td>75.0</td>\n",
              "      <td>1.24</td>\n",
              "      <td>0.0</td>\n",
              "      <td>0.0</td>\n",
              "      <td>157.0</td>\n",
              "      <td>8.1</td>\n",
              "      <td>52.0</td>\n",
              "      <td>7.7</td>\n",
              "      <td>76.0</td>\n",
              "      <td>4.3</td>\n",
              "      <td>1.3</td>\n",
              "      <td>200.3</td>\n",
              "      <td>370.3</td>\n",
              "      <td>147.0</td>\n",
              "      <td>555.7</td>\n",
              "      <td>303.7</td>\n",
              "      <td>59.7</td>\n",
              "      <td>0.0</td>\n",
              "      <td>22.7</td>\n",
              "      <td>59</td>\n",
              "      <td>2</td>\n",
              "      <td>2</td>\n",
              "      <td>PITHOM412</td>\n",
              "      <td>9.0</td>\n",
              "      <td>4.0</td>\n",
              "      <td>458.0</td>\n",
              "      <td>30.0</td>\n",
              "      <td>0.0</td>\n",
              "      <td>No</td>\n",
              "      <td>No</td>\n",
              "      <td>Yes</td>\n",
              "      <td>No</td>\n",
              "      <td>No</td>\n",
              "      <td>Known</td>\n",
              "      <td>Yes</td>\n",
              "      <td>Yes</td>\n",
              "      <td>No</td>\n",
              "      <td>No</td>\n",
              "      <td>No</td>\n",
              "      <td>Yes</td>\n",
              "      <td>0</td>\n",
              "      <td>0</td>\n",
              "      <td>Yes</td>\n",
              "      <td>No</td>\n",
              "      <td>0</td>\n",
              "      <td>6</td>\n",
              "      <td>No</td>\n",
              "      <td>0</td>\n",
              "      <td>10</td>\n",
              "      <td>No</td>\n",
              "      <td>4-Medium</td>\n",
              "      <td>Other</td>\n",
              "      <td>Other</td>\n",
              "      <td>No</td>\n",
              "    </tr>\n",
              "    <tr>\n",
              "      <th>4</th>\n",
              "      <td>3000026</td>\n",
              "      <td>Yes</td>\n",
              "      <td>17.14</td>\n",
              "      <td>0.0</td>\n",
              "      <td>17.0</td>\n",
              "      <td>0.00</td>\n",
              "      <td>0.0</td>\n",
              "      <td>0.0</td>\n",
              "      <td>0.0</td>\n",
              "      <td>-0.2</td>\n",
              "      <td>0.0</td>\n",
              "      <td>0.0</td>\n",
              "      <td>0.0</td>\n",
              "      <td>0.0</td>\n",
              "      <td>0.0</td>\n",
              "      <td>0.0</td>\n",
              "      <td>0.0</td>\n",
              "      <td>0.0</td>\n",
              "      <td>0.0</td>\n",
              "      <td>0.0</td>\n",
              "      <td>0.0</td>\n",
              "      <td>0.0</td>\n",
              "      <td>0.0</td>\n",
              "      <td>53</td>\n",
              "      <td>2</td>\n",
              "      <td>2</td>\n",
              "      <td>OKCTUL918</td>\n",
              "      <td>4.0</td>\n",
              "      <td>3.0</td>\n",
              "      <td>852.0</td>\n",
              "      <td>46.0</td>\n",
              "      <td>54.0</td>\n",
              "      <td>No</td>\n",
              "      <td>No</td>\n",
              "      <td>No</td>\n",
              "      <td>No</td>\n",
              "      <td>No</td>\n",
              "      <td>Known</td>\n",
              "      <td>Yes</td>\n",
              "      <td>Yes</td>\n",
              "      <td>No</td>\n",
              "      <td>No</td>\n",
              "      <td>Yes</td>\n",
              "      <td>Yes</td>\n",
              "      <td>0</td>\n",
              "      <td>0</td>\n",
              "      <td>No</td>\n",
              "      <td>Yes</td>\n",
              "      <td>0</td>\n",
              "      <td>9</td>\n",
              "      <td>No</td>\n",
              "      <td>1</td>\n",
              "      <td>10</td>\n",
              "      <td>No</td>\n",
              "      <td>1-Highest</td>\n",
              "      <td>Other</td>\n",
              "      <td>Professional</td>\n",
              "      <td>Yes</td>\n",
              "    </tr>\n",
              "  </tbody>\n",
              "</table>\n",
              "</div>"
            ],
            "text/plain": [
              "   CustomerID Churn  MonthlyRevenue  ...  PrizmCode    Occupation  MaritalStatus\n",
              "0     3000002   Yes           24.00  ...   Suburban  Professional             No\n",
              "1     3000010   Yes           16.99  ...   Suburban  Professional            Yes\n",
              "2     3000014    No           38.00  ...       Town        Crafts            Yes\n",
              "3     3000022    No           82.28  ...      Other         Other             No\n",
              "4     3000026   Yes           17.14  ...      Other  Professional            Yes\n",
              "\n",
              "[5 rows x 58 columns]"
            ]
          },
          "metadata": {},
          "execution_count": 44
        }
      ]
    },
    {
      "cell_type": "markdown",
      "metadata": {
        "id": "arTuXCYclFIL"
      },
      "source": [
        "## Exercise"
      ]
    },
    {
      "cell_type": "markdown",
      "metadata": {
        "id": "46n6OhqOlFIN"
      },
      "source": [
        "## Placeholder for your analysis"
      ]
    },
    {
      "cell_type": "code",
      "metadata": {
        "id": "xDu2UNTvlFIO",
        "colab": {
          "base_uri": "https://localhost:8080/"
        },
        "outputId": "92b1a37a-5f73-4be9-f3cb-e7cda165bfb0"
      },
      "source": [
        "# Type your code here to explore and understand the data better\n",
        "\n",
        "#e.g., identify the dimension of cust_df\n",
        "cust_df.shape\n"
      ],
      "execution_count": null,
      "outputs": [
        {
          "output_type": "execute_result",
          "data": {
            "text/plain": [
              "(51047, 58)"
            ]
          },
          "metadata": {},
          "execution_count": 45
        }
      ]
    },
    {
      "cell_type": "markdown",
      "metadata": {
        "id": "rsOVIvHSlFIO"
      },
      "source": [
        "## Q1. Detect and resolve problems in the data (Missing value, Outliers, Unexpected value, etc.)"
      ]
    },
    {
      "cell_type": "markdown",
      "metadata": {
        "id": "qoX4uCUIlFIP"
      },
      "source": [
        "### Q1.1 How many customers had zero monthly revenue?"
      ]
    },
    {
      "cell_type": "code",
      "metadata": {
        "id": "qSmjZ8QQlFIP",
        "colab": {
          "base_uri": "https://localhost:8080/"
        },
        "outputId": "1b558779-e010-4bf4-c03a-7ab933ea330e"
      },
      "source": [
        "#How many customers had zero monthly revenue?\n",
        "#Exclude the customers with zero monthly revenue from cust_df and from any subsequent analysis\n",
        "cust_df[cust_df.MonthlyRevenue==0].shape[0]\n",
        "\n",
        "cust_df= cust_df[cust_df.MonthlyRevenue > 0.0]\n",
        "\n",
        "cust_df= cust_df[cust_df[\"MonthlyMinutes\"] > 0.0]\n"
      ],
      "execution_count": null,
      "outputs": [
        {
          "output_type": "execute_result",
          "data": {
            "text/plain": [
              "6"
            ]
          },
          "metadata": {},
          "execution_count": 46
        }
      ]
    },
    {
      "cell_type": "markdown",
      "metadata": {
        "id": "IEil-5AblFIP"
      },
      "source": [
        "### Q1.2 How many columns has missing values percentage > 5%"
      ]
    },
    {
      "cell_type": "code",
      "metadata": {
        "id": "9r1UrF0PlFIQ",
        "colab": {
          "base_uri": "https://localhost:8080/"
        },
        "outputId": "f2558fe9-8458-48d3-8d3f-3523838c9e0c"
      },
      "source": [
        "#Calculate for each column % of missing value in the data\n",
        "#How many columns has missing values percentage > 5%\n",
        "100*(cust_df.isnull().sum()/cust_df.shape[0])\n",
        "#What strategy should be used for imputation?\n",
        "\n",
        "#since count of missing value is small we can just drop them\n",
        "cust_df.dropna(axis=0, inplace=True)\n",
        "cust_df.shape[0]"
      ],
      "execution_count": null,
      "outputs": [
        {
          "output_type": "execute_result",
          "data": {
            "text/plain": [
              "CustomerID                   0.000000\n",
              "Churn                        0.000000\n",
              "MonthlyRevenue               0.000000\n",
              "MonthlyMinutes               0.000000\n",
              "TotalRecurringCharge         0.000000\n",
              "DirectorAssistedCalls        0.000000\n",
              "OverageMinutes               0.000000\n",
              "RoamingCalls                 0.000000\n",
              "PercChangeMinutes            0.344883\n",
              "PercChangeRevenues           0.344883\n",
              "DroppedCalls                 0.000000\n",
              "BlockedCalls                 0.000000\n",
              "UnansweredCalls              0.000000\n",
              "CustomerCareCalls            0.000000\n",
              "ThreewayCalls                0.000000\n",
              "ReceivedCalls                0.000000\n",
              "OutboundCalls                0.000000\n",
              "InboundCalls                 0.000000\n",
              "PeakCallsInOut               0.000000\n",
              "OffPeakCallsInOut            0.000000\n",
              "DroppedBlockedCalls          0.000000\n",
              "CallForwardingCalls          0.000000\n",
              "CallWaitingCalls             0.000000\n",
              "MonthsInService              0.000000\n",
              "UniqueSubs                   0.000000\n",
              "ActiveSubs                   0.000000\n",
              "ServiceArea                  0.047845\n",
              "Handsets                     0.000000\n",
              "HandsetModels                0.000000\n",
              "CurrentEquipmentDays         0.000000\n",
              "AgeHH1                       1.772258\n",
              "AgeHH2                       1.772258\n",
              "ChildrenInHH                 0.000000\n",
              "HandsetRefurbished           0.000000\n",
              "HandsetWebCapable            0.000000\n",
              "TruckOwner                   0.000000\n",
              "RVOwner                      0.000000\n",
              "Homeownership                0.000000\n",
              "BuysViaMailOrder             0.000000\n",
              "RespondsToMailOffers         0.000000\n",
              "OptOutMailings               0.000000\n",
              "NonUSTravel                  0.000000\n",
              "OwnsComputer                 0.000000\n",
              "HasCreditCard                0.000000\n",
              "RetentionCalls               0.000000\n",
              "RetentionOffersAccepted      0.000000\n",
              "NewCellphoneUser             0.000000\n",
              "NotNewCellphoneUser          0.000000\n",
              "ReferralsMadeBySubscriber    0.000000\n",
              "IncomeGroup                  0.000000\n",
              "OwnsMotorcycle               0.000000\n",
              "AdjustmentsToCreditRating    0.000000\n",
              "HandsetPrice                 0.000000\n",
              "MadeCallToRetentionTeam      0.000000\n",
              "CreditRating                 0.000000\n",
              "PrizmCode                    0.000000\n",
              "Occupation                   0.000000\n",
              "MaritalStatus                0.000000\n",
              "dtype: float64"
            ]
          },
          "metadata": {},
          "execution_count": 47
        },
        {
          "output_type": "execute_result",
          "data": {
            "text/plain": [
              "49078"
            ]
          },
          "metadata": {},
          "execution_count": 47
        }
      ]
    },
    {
      "cell_type": "markdown",
      "metadata": {
        "id": "wtaCwTMqlFIQ"
      },
      "source": [
        "<mark>__Result:__\n",
        "    \n",
        "Type your answer here for how would you impute the missing values (if any)\n",
        "\n",
        "Since the percentage of missing number is small, we can just drop those rows"
      ]
    },
    {
      "cell_type": "markdown",
      "metadata": {
        "id": "MMq6xiX_lFIQ"
      },
      "source": [
        "### Q1.3 For columns, \"UniqueSubs\" and \"DirectorAssistedCalls\" remove outliers, if any"
      ]
    },
    {
      "cell_type": "code",
      "metadata": {
        "id": "RurTZpXRlFIR",
        "colab": {
          "base_uri": "https://localhost:8080/",
          "height": 282
        },
        "outputId": "2fe0c96d-d751-489c-da17-875eaf442109"
      },
      "source": [
        "#plot box plot using pandas for columns \"UniqueSubs\" and \"DirectorAssistedCalls\"\n",
        "cols=[\"UniqueSubs\",\"DirectorAssistedCalls\"]\n",
        "cust_df.boxplot(column=cols)"
      ],
      "execution_count": null,
      "outputs": [
        {
          "output_type": "execute_result",
          "data": {
            "text/plain": [
              "<matplotlib.axes._subplots.AxesSubplot at 0x7feb699f9c90>"
            ]
          },
          "metadata": {},
          "execution_count": 48
        },
        {
          "output_type": "display_data",
          "data": {
            "image/png": "[encoded data removed]",
            "text/plain": [
              "<Figure size 432x288 with 1 Axes>"
            ]
          },
          "metadata": {
            "needs_background": "light"
          }
        }
      ]
    },
    {
      "cell_type": "code",
      "metadata": {
        "id": "MXMbtk5TlFIS",
        "colab": {
          "base_uri": "https://localhost:8080/",
          "height": 501
        },
        "outputId": "aa5cedb8-354d-4c01-f429-4dd709ef6b47"
      },
      "source": [
        "#Remove top 1% outliers from the above mentioned two columns and plot the box plot again\n",
        "#Use \"quantile\" function to identify top 1% outliers\n",
        "\n",
        "q_value= [i/100 for i in range(95,101,1)]\n",
        "cust_df[cols].quantile(q_value)\n",
        "\n",
        "#filtering cust data with 99% value\n",
        "cust_df= cust_df[(cust_df.UniqueSubs <=5) & (cust_df.DirectorAssistedCalls <=9.6156)]\n",
        "cols= [\"UniqueSubs\",\"DirectorAssistedCalls\"]\n",
        "cust_df.boxplot(column=cols)"
      ],
      "execution_count": null,
      "outputs": [
        {
          "output_type": "execute_result",
          "data": {
            "text/html": [
              "<div>\n",
              "<style scoped>\n",
              "    .dataframe tbody tr th:only-of-type {\n",
              "        vertical-align: middle;\n",
              "    }\n",
              "\n",
              "    .dataframe tbody tr th {\n",
              "        vertical-align: top;\n",
              "    }\n",
              "\n",
              "    .dataframe thead th {\n",
              "        text-align: right;\n",
              "    }\n",
              "</style>\n",
              "<table border=\"1\" class=\"dataframe\">\n",
              "  <thead>\n",
              "    <tr style=\"text-align: right;\">\n",
              "      <th></th>\n",
              "      <th>UniqueSubs</th>\n",
              "      <th>DirectorAssistedCalls</th>\n",
              "    </tr>\n",
              "  </thead>\n",
              "  <tbody>\n",
              "    <tr>\n",
              "      <th>0.95</th>\n",
              "      <td>3.0</td>\n",
              "      <td>4.21</td>\n",
              "    </tr>\n",
              "    <tr>\n",
              "      <th>0.96</th>\n",
              "      <td>3.0</td>\n",
              "      <td>4.70</td>\n",
              "    </tr>\n",
              "    <tr>\n",
              "      <th>0.97</th>\n",
              "      <td>4.0</td>\n",
              "      <td>5.69</td>\n",
              "    </tr>\n",
              "    <tr>\n",
              "      <th>0.98</th>\n",
              "      <td>4.0</td>\n",
              "      <td>6.93</td>\n",
              "    </tr>\n",
              "    <tr>\n",
              "      <th>0.99</th>\n",
              "      <td>5.0</td>\n",
              "      <td>9.65</td>\n",
              "    </tr>\n",
              "    <tr>\n",
              "      <th>1.00</th>\n",
              "      <td>18.0</td>\n",
              "      <td>159.39</td>\n",
              "    </tr>\n",
              "  </tbody>\n",
              "</table>\n",
              "</div>"
            ],
            "text/plain": [
              "      UniqueSubs  DirectorAssistedCalls\n",
              "0.95         3.0                   4.21\n",
              "0.96         3.0                   4.70\n",
              "0.97         4.0                   5.69\n",
              "0.98         4.0                   6.93\n",
              "0.99         5.0                   9.65\n",
              "1.00        18.0                 159.39"
            ]
          },
          "metadata": {},
          "execution_count": 49
        },
        {
          "output_type": "execute_result",
          "data": {
            "text/plain": [
              "<matplotlib.axes._subplots.AxesSubplot at 0x7feb6997dc50>"
            ]
          },
          "metadata": {},
          "execution_count": 49
        },
        {
          "output_type": "display_data",
          "data": {
            "image/png": "[encoded data removed]",
            "text/plain": [
              "<Figure size 432x288 with 1 Axes>"
            ]
          },
          "metadata": {
            "needs_background": "light"
          }
        }
      ]
    },
    {
      "cell_type": "markdown",
      "metadata": {
        "id": "j9nGdg_jlFIS"
      },
      "source": [
        "## Q2. Perform exploratory analysis to analyze customer churn"
      ]
    },
    {
      "cell_type": "markdown",
      "metadata": {
        "id": "kuLvZj8LlFIS"
      },
      "source": [
        "### Q2.1 Does customers with high overage minutes also have high revenue?"
      ]
    },
    {
      "cell_type": "code",
      "metadata": {
        "id": "9iwrU-MelFIT",
        "colab": {
          "base_uri": "https://localhost:8080/",
          "height": 296
        },
        "outputId": "56783199-4df0-478b-c8a2-3a6fd9080523"
      },
      "source": [
        "#use scatter plot to find the correlation between monthly revenue and overage minutes\n",
        "sns.scatterplot(x = 'MonthlyRevenue', y = 'OverageMinutes', data = cust_df)"
      ],
      "execution_count": null,
      "outputs": [
        {
          "output_type": "execute_result",
          "data": {
            "text/plain": [
              "<matplotlib.axes._subplots.AxesSubplot at 0x7feb79662b90>"
            ]
          },
          "metadata": {},
          "execution_count": 10
        },
        {
          "output_type": "display_data",
          "data": {
            "image/png": "[encoded data removed]",
            "text/plain": [
              "<Figure size 432x288 with 1 Axes>"
            ]
          },
          "metadata": {
            "needs_background": "light"
          }
        }
      ]
    },
    {
      "cell_type": "code",
      "metadata": {
        "colab": {
          "base_uri": "https://localhost:8080/",
          "height": 608
        },
        "id": "BQztR4NgYDfV",
        "outputId": "b6664b12-5410-4af6-8d7e-1c7d96fc88bf"
      },
      "source": [
        "plt.title(\"Non churned customer\")\n",
        "sns.scatterplot(x = 'MonthlyRevenue', y = 'OverageMinutes', data = cust_df[cust_df.Churn==\"No\"])\n",
        "plt.show()\n",
        "\n",
        "plt.title(\"Churned customer\")\n",
        "sns.scatterplot(x = 'MonthlyRevenue', y = 'OverageMinutes', data = cust_df[cust_df.Churn==\"Yes\"])\n",
        "plt.show()"
      ],
      "execution_count": null,
      "outputs": [
        {
          "output_type": "execute_result",
          "data": {
            "text/plain": [
              "Text(0.5, 1.0, 'Non churned customer')"
            ]
          },
          "metadata": {},
          "execution_count": 11
        },
        {
          "output_type": "execute_result",
          "data": {
            "text/plain": [
              "<matplotlib.axes._subplots.AxesSubplot at 0x7feb795ddc50>"
            ]
          },
          "metadata": {},
          "execution_count": 11
        },
        {
          "output_type": "display_data",
          "data": {
            "image/png": "[encoded data removed]",
            "text/plain": [
              "<Figure size 432x288 with 1 Axes>"
            ]
          },
          "metadata": {
            "needs_background": "light"
          }
        },
        {
          "output_type": "execute_result",
          "data": {
            "text/plain": [
              "Text(0.5, 1.0, 'Churned customer')"
            ]
          },
          "metadata": {},
          "execution_count": 11
        },
        {
          "output_type": "execute_result",
          "data": {
            "text/plain": [
              "<matplotlib.axes._subplots.AxesSubplot at 0x7feb79564b90>"
            ]
          },
          "metadata": {},
          "execution_count": 11
        },
        {
          "output_type": "display_data",
          "data": {
            "image/png": "[encoded data removed]",
            "text/plain": [
              "<Figure size 432x288 with 1 Axes>"
            ]
          },
          "metadata": {
            "needs_background": "light"
          }
        }
      ]
    },
    {
      "cell_type": "markdown",
      "metadata": {
        "id": "p0c7mh47lFIT"
      },
      "source": [
        "<mark>__Result:__\n",
        "    \n",
        "Type your interpretation here based on the scatter plot analysis\n",
        "\n",
        "There seems to be strong corelation between monthly revenue and overage minutes"
      ]
    },
    {
      "cell_type": "markdown",
      "metadata": {
        "id": "ypcm12s6lFIT"
      },
      "source": [
        "### Q2.2 Does high number of active subscribers lead to low monthly revenue?"
      ]
    },
    {
      "cell_type": "code",
      "metadata": {
        "id": "K_Hbu6DvlFIU",
        "colab": {
          "base_uri": "https://localhost:8080/",
          "height": 386
        },
        "outputId": "48493aef-a84a-413b-ef9c-eeff07bcd7f2"
      },
      "source": [
        "#use category plot to plot monthly revenue for each active subs category\n",
        "sns.catplot(x=\"ActiveSubs\", y=\"MonthlyRevenue\", data=cust_df) "
      ],
      "execution_count": null,
      "outputs": [
        {
          "output_type": "execute_result",
          "data": {
            "text/plain": [
              "<seaborn.axisgrid.FacetGrid at 0x7feb7964da10>"
            ]
          },
          "metadata": {},
          "execution_count": 12
        },
        {
          "output_type": "display_data",
          "data": {
            "image/png": "[encoded data removed]",
            "text/plain": [
              "<Figure size 360x360 with 1 Axes>"
            ]
          },
          "metadata": {
            "needs_background": "light"
          }
        }
      ]
    },
    {
      "cell_type": "markdown",
      "metadata": {
        "id": "mkrnwbZhlFIU"
      },
      "source": [
        "<mark>__Result:__\n",
        "    \n",
        "Type your interpretation here based on the category plot analysis\n",
        "\n",
        "It looks like with increase in number of category plot, the monthly revenue decreases."
      ]
    },
    {
      "cell_type": "markdown",
      "metadata": {
        "id": "uZYchMbslFIU"
      },
      "source": [
        "### Q2.3 Does credit rating have an impact in churn rate?"
      ]
    },
    {
      "cell_type": "code",
      "metadata": {
        "id": "VLQbrOxulFIU",
        "colab": {
          "base_uri": "https://localhost:8080/",
          "height": 264
        },
        "outputId": "5c166383-f65c-477a-8ae3-144487cd2300"
      },
      "source": [
        "pd.crosstab(cust_df.Churn, cust_df.CreditRating).apply(lambda r: r/r.sum(), axis=0)\n",
        "pd.crosstab(cust_df.Churn, cust_df.CreditRating).apply(lambda r: r/r.sum(), axis=1)"
      ],
      "execution_count": null,
      "outputs": [
        {
          "output_type": "execute_result",
          "data": {
            "text/html": [
              "<div>\n",
              "<style scoped>\n",
              "    .dataframe tbody tr th:only-of-type {\n",
              "        vertical-align: middle;\n",
              "    }\n",
              "\n",
              "    .dataframe tbody tr th {\n",
              "        vertical-align: top;\n",
              "    }\n",
              "\n",
              "    .dataframe thead th {\n",
              "        text-align: right;\n",
              "    }\n",
              "</style>\n",
              "<table border=\"1\" class=\"dataframe\">\n",
              "  <thead>\n",
              "    <tr style=\"text-align: right;\">\n",
              "      <th>CreditRating</th>\n",
              "      <th>1-Highest</th>\n",
              "      <th>2-High</th>\n",
              "      <th>3-Good</th>\n",
              "      <th>4-Medium</th>\n",
              "      <th>5-Low</th>\n",
              "      <th>6-VeryLow</th>\n",
              "      <th>7-Lowest</th>\n",
              "    </tr>\n",
              "    <tr>\n",
              "      <th>Churn</th>\n",
              "      <th></th>\n",
              "      <th></th>\n",
              "      <th></th>\n",
              "      <th></th>\n",
              "      <th></th>\n",
              "      <th></th>\n",
              "      <th></th>\n",
              "    </tr>\n",
              "  </thead>\n",
              "  <tbody>\n",
              "    <tr>\n",
              "      <th>No</th>\n",
              "      <td>0.698608</td>\n",
              "      <td>0.7039</td>\n",
              "      <td>0.69738</td>\n",
              "      <td>0.745876</td>\n",
              "      <td>0.785889</td>\n",
              "      <td>0.739905</td>\n",
              "      <td>0.718026</td>\n",
              "    </tr>\n",
              "    <tr>\n",
              "      <th>Yes</th>\n",
              "      <td>0.301392</td>\n",
              "      <td>0.2961</td>\n",
              "      <td>0.30262</td>\n",
              "      <td>0.254124</td>\n",
              "      <td>0.214111</td>\n",
              "      <td>0.260095</td>\n",
              "      <td>0.281974</td>\n",
              "    </tr>\n",
              "  </tbody>\n",
              "</table>\n",
              "</div>"
            ],
            "text/plain": [
              "CreditRating  1-Highest  2-High   3-Good  ...     5-Low  6-VeryLow  7-Lowest\n",
              "Churn                                     ...                               \n",
              "No             0.698608  0.7039  0.69738  ...  0.785889   0.739905  0.718026\n",
              "Yes            0.301392  0.2961  0.30262  ...  0.214111   0.260095  0.281974\n",
              "\n",
              "[2 rows x 7 columns]"
            ]
          },
          "metadata": {},
          "execution_count": 50
        },
        {
          "output_type": "execute_result",
          "data": {
            "text/html": [
              "<div>\n",
              "<style scoped>\n",
              "    .dataframe tbody tr th:only-of-type {\n",
              "        vertical-align: middle;\n",
              "    }\n",
              "\n",
              "    .dataframe tbody tr th {\n",
              "        vertical-align: top;\n",
              "    }\n",
              "\n",
              "    .dataframe thead th {\n",
              "        text-align: right;\n",
              "    }\n",
              "</style>\n",
              "<table border=\"1\" class=\"dataframe\">\n",
              "  <thead>\n",
              "    <tr style=\"text-align: right;\">\n",
              "      <th>CreditRating</th>\n",
              "      <th>1-Highest</th>\n",
              "      <th>2-High</th>\n",
              "      <th>3-Good</th>\n",
              "      <th>4-Medium</th>\n",
              "      <th>5-Low</th>\n",
              "      <th>6-VeryLow</th>\n",
              "      <th>7-Lowest</th>\n",
              "    </tr>\n",
              "    <tr>\n",
              "      <th>Churn</th>\n",
              "      <th></th>\n",
              "      <th></th>\n",
              "      <th></th>\n",
              "      <th></th>\n",
              "      <th></th>\n",
              "      <th></th>\n",
              "      <th></th>\n",
              "    </tr>\n",
              "  </thead>\n",
              "  <tbody>\n",
              "    <tr>\n",
              "      <th>No</th>\n",
              "      <td>0.161849</td>\n",
              "      <td>0.371062</td>\n",
              "      <td>0.160179</td>\n",
              "      <td>0.109358</td>\n",
              "      <td>0.138555</td>\n",
              "      <td>0.017938</td>\n",
              "      <td>0.041060</td>\n",
              "    </tr>\n",
              "    <tr>\n",
              "      <th>Yes</th>\n",
              "      <td>0.177734</td>\n",
              "      <td>0.397318</td>\n",
              "      <td>0.176928</td>\n",
              "      <td>0.094840</td>\n",
              "      <td>0.096086</td>\n",
              "      <td>0.016051</td>\n",
              "      <td>0.041044</td>\n",
              "    </tr>\n",
              "  </tbody>\n",
              "</table>\n",
              "</div>"
            ],
            "text/plain": [
              "CreditRating  1-Highest    2-High    3-Good  ...     5-Low  6-VeryLow  7-Lowest\n",
              "Churn                                        ...                               \n",
              "No             0.161849  0.371062  0.160179  ...  0.138555   0.017938  0.041060\n",
              "Yes            0.177734  0.397318  0.176928  ...  0.096086   0.016051  0.041044\n",
              "\n",
              "[2 rows x 7 columns]"
            ]
          },
          "metadata": {},
          "execution_count": 50
        }
      ]
    },
    {
      "cell_type": "markdown",
      "metadata": {
        "id": "Tm9Kkol0lFIV"
      },
      "source": [
        "<mark>__Result:__\n",
        "    \n",
        "Type your interpretation here based on the analysis above\n",
        "\n",
        "People irrespective of their credit rating customer are churning and proportion of churned customer is higher on larger credit scores."
      ]
    },
    {
      "cell_type": "markdown",
      "metadata": {
        "id": "okgnaKbclFIV"
      },
      "source": [
        "### Placeholder for additional exploratory analysis"
      ]
    },
    {
      "cell_type": "code",
      "metadata": {
        "id": "bJkZDBualFIV"
      },
      "source": [
        "#type your code here for any additional exploratory analysis (if any)"
      ],
      "execution_count": null,
      "outputs": []
    },
    {
      "cell_type": "markdown",
      "metadata": {
        "id": "1v8DwkhPlFIV"
      },
      "source": [
        "## Q3. Create additional features to help predict churn"
      ]
    },
    {
      "cell_type": "code",
      "metadata": {
        "id": "Qtk8mg8OlFIW"
      },
      "source": [
        "#wrapper function to create additional features for churn prediction\n",
        "def create_features(cust_df):\n",
        "    \n",
        "    #3.1 Percent of current active subs over total subs\n",
        "    cust_df['perc_active_subs'] = cust_df['ActiveSubs'] / cust_df['UniqueSubs']\n",
        "    \n",
        "    #3.2 Percent of recurrent charge to monthly charge\n",
        "    #type your code here to create a new column in cust_df\n",
        "    cust_df['perc_recurrent_charge']= cust_df['TotalRecurringCharge'] / cust_df['MonthlyRevenue']\n",
        "    \n",
        "    #3.3 Percent of overage minutes over total monthly minutes\n",
        "    #type your code here to create a new column in cust_df\n",
        "    cust_df['perc_overage_minute']= cust_df['OverageMinutes'] / cust_df['MonthlyMinutes']\n",
        "\n",
        "    \n",
        "    #type your code here to creat any other additional features which you think will help improve your model accuracy\n",
        "    cust_df['perc_Roaming_Calls']= cust_df['RoamingCalls'] / cust_df['MonthlyMinutes']\n",
        "\n",
        "    cust_df['perc_Dropped_Calls']= cust_df['DroppedCalls'] / cust_df['MonthlyMinutes']\n",
        "\n",
        "    cust_df['perc_Blocked_Calls']= cust_df['BlockedCalls'] / cust_df['MonthlyMinutes']\n",
        "\n",
        "    cust_df['perc_Unanswered_Calls']= cust_df['UnansweredCalls'] / cust_df['MonthlyMinutes']\n",
        "\n",
        "    cust_df['perc_Customer_Care_Calls']= cust_df['CustomerCareCalls'] / cust_df['MonthlyMinutes']\n",
        "\n",
        "    cust_df['perc_Threeway_Calls']= cust_df['ThreewayCalls'] / cust_df['MonthlyMinutes']\n",
        "\n",
        "    cust_df['perc_Received_Calls']= cust_df['ReceivedCalls'] / cust_df['MonthlyMinutes']\n",
        "\n",
        "    cust_df['perc_Outbound_Calls']= cust_df['OutboundCalls'] / cust_df['MonthlyMinutes']\n",
        "\n",
        "    cust_df['perc_Inbound_Calls']= cust_df['InboundCalls'] / cust_df['MonthlyMinutes']\n",
        "\n",
        "    cust_df['perc_PeakCalls_InOut']= cust_df['PeakCallsInOut'] / cust_df['MonthlyMinutes']\n",
        "\n",
        "    cust_df['perc_Off_PeakCalls_InOut']= cust_df['OffPeakCallsInOut'] / cust_df['MonthlyMinutes']\n",
        "    \n",
        "    return cust_df  "
      ],
      "execution_count": null,
      "outputs": []
    },
    {
      "cell_type": "code",
      "metadata": {
        "id": "aVqGUbRIlFIW"
      },
      "source": [
        "#Make a call to the feature engineering wrapper function for churn prediction\n",
        "cust_df=create_features(cust_df)\n"
      ],
      "execution_count": null,
      "outputs": []
    },
    {
      "cell_type": "code",
      "metadata": {
        "id": "_y7-CQsKYRYo"
      },
      "source": [
        "#A function that helps to seperate the column whether they are categorical or continous variable\n",
        "def check_categorical(cust_df):\n",
        "  colnames= cust_df.columns\n",
        "  categorical_col = []\n",
        "  continous_col= []\n",
        "\n",
        "  for i in colnames:\n",
        "    if cust_df[i].nunique() < 20:\n",
        "      if i != \"Churn\":\n",
        "        categorical_col.append(i)\n",
        "\n",
        "    else:\n",
        "      if i not in [\"CustomerID\", \"ServiceArea\"]:\n",
        "        continous_col.append(i)\n",
        "\n",
        "  return (categorical_col,continous_col)"
      ],
      "execution_count": null,
      "outputs": []
    },
    {
      "cell_type": "code",
      "metadata": {
        "id": "qBzMScdOYTeJ"
      },
      "source": [
        "#Function that does chisqr test to validate whether categorical variable is independent of the churn rate or not\n",
        "#filtersout whether categorical variables that has impact on churn.\n",
        "\n",
        "def check_categorical_imp(cust_df, categorical_col):\n",
        "  new_categorical_col=[]\n",
        "  for i in categorical_col:\n",
        "    if stats.chi2_contingency(pd.crosstab(cust_df.Churn, cust_df[i]))[1] > 0.05:\n",
        "      pass\n",
        "    else:\n",
        "      new_categorical_col\n",
        "\n",
        "  return new_categorical_col\n"
      ],
      "execution_count": null,
      "outputs": []
    },
    {
      "cell_type": "code",
      "metadata": {
        "id": "iwFCfzznYVel"
      },
      "source": [
        "categorical_col, continous_col= check_categorical(cust_df)"
      ],
      "execution_count": null,
      "outputs": []
    },
    {
      "cell_type": "code",
      "metadata": {
        "colab": {
          "base_uri": "https://localhost:8080/"
        },
        "id": "2E34LC6tYX6W",
        "outputId": "4bd6b9ce-ba60-41ec-f2f0-b1524b8af340"
      },
      "source": [
        "cust_df.shape"
      ],
      "execution_count": null,
      "outputs": [
        {
          "output_type": "execute_result",
          "data": {
            "text/plain": [
              "(48374, 72)"
            ]
          },
          "metadata": {},
          "execution_count": 56
        }
      ]
    },
    {
      "cell_type": "code",
      "metadata": {
        "colab": {
          "base_uri": "https://localhost:8080/"
        },
        "id": "2h7Lm7RhYa1n",
        "outputId": "d6406315-b967-44fb-c519-1110381a2a76"
      },
      "source": [
        "cust_df.Churn.value_counts()"
      ],
      "execution_count": null,
      "outputs": [
        {
          "output_type": "execute_result",
          "data": {
            "text/plain": [
              "No     34730\n",
              "Yes    13644\n",
              "Name: Churn, dtype: int64"
            ]
          },
          "metadata": {},
          "execution_count": 57
        }
      ]
    },
    {
      "cell_type": "code",
      "metadata": {
        "colab": {
          "base_uri": "https://localhost:8080/"
        },
        "id": "B_wW9p-dYdmv",
        "outputId": "25718067-4f70-4d1b-ed8e-096df267eafc"
      },
      "source": [
        "cust_df[\"Churn\"]= cust_df[\"Churn\"].replace([\"Yes\", \"No\"], [1,0])\n",
        "class_count_0, class_count_1 = cust_df[\"Churn\"].value_counts()\n",
        "\n",
        "class_0= cust_df[cust_df['Churn'] == 0]\n",
        "class_1= cust_df[cust_df[\"Churn\"] == 1] #prints the shape of the class\n",
        "\n",
        "class_1_over=  class_1.sample(class_count_0, replace=True)\n",
        "\n",
        "test_over= pd.concat([class_1_over, class_0], axis=0)\n",
        "\n",
        "cust_df= test_over\n",
        "y=cust_df.Churn\n",
        "y.value_counts()/len(y)*100"
      ],
      "execution_count": null,
      "outputs": [
        {
          "output_type": "execute_result",
          "data": {
            "text/plain": [
              "1    50.0\n",
              "0    50.0\n",
              "Name: Churn, dtype: float64"
            ]
          },
          "metadata": {},
          "execution_count": 58
        }
      ]
    },
    {
      "cell_type": "code",
      "metadata": {
        "id": "Y_YBBdoXYe04"
      },
      "source": [
        "#filters categorical and continous column names\n",
        "\n",
        "#passes all categorical variable and returns only those that have impact on churn\n",
        "important_categorical_col=  check_categorical_imp(cust_df, categorical_col)\n",
        "\n",
        "#storing the churn flag variable in y\n",
        "y=cust_df.Churn\n",
        "customerid= cust_df.CustomerID\n",
        "monthlyrevenue = cust_df.MonthlyRevenue\n",
        "\n",
        "#keeping on the relevant columns from the data\n",
        "cust_df=  cust_df[important_categorical_col + continous_col]"
      ],
      "execution_count": null,
      "outputs": []
    },
    {
      "cell_type": "markdown",
      "metadata": {
        "id": "VE-kdD_YlFIX"
      },
      "source": [
        "## Q4. Build classification model to predict customer churn month in advance"
      ]
    },
    {
      "cell_type": "markdown",
      "metadata": {
        "id": "-EqcNv6rlFIX"
      },
      "source": [
        "### Initial data processing for model building exercise"
      ]
    },
    {
      "cell_type": "code",
      "metadata": {
        "id": "pZlh5pYilFIX"
      },
      "source": [
        "#Train - test split to train and test model accuracy\n",
        "from sklearn.model_selection import train_test_split\n",
        "\n",
        "#Define columns to be included in X and y\n",
        "# X = Independent variables\n",
        "# Y = Dependent variable (churn flag)\n",
        "\n",
        "#X_train, X_test, y_train, y_test = train_test_split(X, y, test_size=0.3, random_state=0)\n",
        "\n",
        "#Feature scaling for all continuous variable\n",
        "from sklearn.preprocessing import StandardScaler\n",
        "sc = StandardScaler()\n",
        "\n",
        "#scaling all continous variables from the dataframe\n",
        "cust_df[continous_col] = sc.fit_transform(cust_df[continous_col])\n",
        "\n",
        "#Create dummy variables for all categorical variables\n",
        "cust_df = pd.get_dummies(cust_df, columns= important_categorical_col, drop_first= True)\n",
        "\n",
        "#X = pd.get_dummies(X)\n",
        "\n"
      ],
      "execution_count": null,
      "outputs": []
    },
    {
      "cell_type": "code",
      "metadata": {
        "colab": {
          "base_uri": "https://localhost:8080/"
        },
        "id": "-XmFEZ8gYsgU",
        "outputId": "021c439f-f0d6-437a-9945-eb61c1c67208"
      },
      "source": [
        "y.value_counts()"
      ],
      "execution_count": null,
      "outputs": [
        {
          "output_type": "execute_result",
          "data": {
            "text/plain": [
              "1    34730\n",
              "0    34730\n",
              "Name: Churn, dtype: int64"
            ]
          },
          "metadata": {},
          "execution_count": 61
        }
      ]
    },
    {
      "cell_type": "code",
      "metadata": {
        "colab": {
          "base_uri": "https://localhost:8080/"
        },
        "id": "Tw7EBXD7YuNF",
        "outputId": "21c759f6-b698-4ccc-9cbb-7dd3ed0c8e02"
      },
      "source": [
        "y.value_counts()/ len(y)*100"
      ],
      "execution_count": null,
      "outputs": [
        {
          "output_type": "execute_result",
          "data": {
            "text/plain": [
              "1    50.0\n",
              "0    50.0\n",
              "Name: Churn, dtype: float64"
            ]
          },
          "metadata": {},
          "execution_count": 62
        }
      ]
    },
    {
      "cell_type": "code",
      "metadata": {
        "colab": {
          "base_uri": "https://localhost:8080/"
        },
        "id": "uJ5UYOvbZanF",
        "outputId": "aab7f871-914d-48d4-87b2-94b938f912c6"
      },
      "source": [
        "len(important_categorical_col)"
      ],
      "execution_count": null,
      "outputs": [
        {
          "output_type": "execute_result",
          "data": {
            "text/plain": [
              "0"
            ]
          },
          "metadata": {},
          "execution_count": 63
        }
      ]
    },
    {
      "cell_type": "code",
      "metadata": {
        "id": "62JbE6niYwes"
      },
      "source": [
        "cust_df[\"CustomerID\"] = customerid\n",
        "X=cust_df\n",
        "\n",
        "X_train, X_test, y_train, y_test = train_test_split(X, y, test_size=0.3, random_state=0)"
      ],
      "execution_count": null,
      "outputs": []
    },
    {
      "cell_type": "code",
      "metadata": {
        "colab": {
          "base_uri": "https://localhost:8080/"
        },
        "id": "il8Wb2vuY43W",
        "outputId": "9642569b-7eae-4d3c-ae57-bb7da16190ea"
      },
      "source": [
        "y_train.value_counts()"
      ],
      "execution_count": null,
      "outputs": [
        {
          "output_type": "execute_result",
          "data": {
            "text/plain": [
              "1    24462\n",
              "0    24160\n",
              "Name: Churn, dtype: int64"
            ]
          },
          "metadata": {},
          "execution_count": 65
        }
      ]
    },
    {
      "cell_type": "code",
      "metadata": {
        "id": "r7d_0w_VY8im"
      },
      "source": [
        "train_custid= X_train.CustomerID\n",
        "test_custid= X_test.CustomerID\n",
        "X_train.drop([\"CustomerID\"], inplace=True, axis=1)\n",
        "X_test.drop([\"CustomerID\"], inplace=True, axis=1)"
      ],
      "execution_count": null,
      "outputs": []
    },
    {
      "cell_type": "markdown",
      "metadata": {
        "id": "lj89clILlFIY"
      },
      "source": [
        "### Q4.1 Build a simple logistic regression model to predict churn and evaluate model accuracy on test data set\n"
      ]
    },
    {
      "cell_type": "code",
      "metadata": {
        "id": "R3j70GX1lFIY"
      },
      "source": [
        "#-------------------------------- Model training -------------------------------#\n",
        "\n",
        "#type your code to build logistic regression model on training data set\n",
        "\n",
        "from sklearn.linear_model import LogisticRegression\n",
        "from sklearn.metrics import accuracy_score, classification_report, confusion_matrix, roc_auc_score, f1_score, plot_confusion_matrix, average_precision_score\n",
        "\n",
        "logistic_classifier = LogisticRegression(random_state=0).fit(X_train, y_train)\n",
        "logistic_predt_train_output= logistic_classifier.predict_proba(X_train)[:,1]"
      ],
      "execution_count": null,
      "outputs": []
    },
    {
      "cell_type": "code",
      "metadata": {
        "id": "KlCdJ472lFIZ"
      },
      "source": [
        "#-------------------------------- Model testing ---------------------------------#\n",
        "\n",
        "#type your code here to predict for X_test data set using the fitted model\n",
        "logistic_predt_test_output = logistic_classifier.predict_proba(X_test)[:,1]\n",
        "\n",
        "\n",
        "#Use a probability threshold to classify customers as churners and non churners (Default = 0.5)\n",
        "\n",
        "#Evaluate model accuracy using fitted y value and actual y_test\n",
        "#Evaluatio metrics to be used - GINI, Precision, Recall, confusion matrix"
      ],
      "execution_count": null,
      "outputs": []
    },
    {
      "cell_type": "code",
      "metadata": {
        "id": "3Y7U3wkEZETs"
      },
      "source": [
        "import copy\n",
        "from copy import deepcopy\n",
        "\n",
        "def efficient_cutoff(actual_value, predicted):\n",
        "  probability_cutoff = []\n",
        "  f1_score_value= []\n",
        "\n",
        "  for i in range(0,101):\n",
        "    predicted_x= deepcopy(predicted)\n",
        "    predicted_x[predicted_x >=i /100] =1\n",
        "    predicted_x[predicted_x <i /100] =0\n",
        "    probability_cutoff.append(i/100)\n",
        "    f1_score_value.append(f1_score(actual_value, predicted_x))\n",
        "\n",
        "  return (probability_cutoff, f1_score_value)"
      ],
      "execution_count": null,
      "outputs": []
    },
    {
      "cell_type": "code",
      "metadata": {
        "colab": {
          "base_uri": "https://localhost:8080/",
          "height": 580
        },
        "id": "l4geTBaUZFQm",
        "outputId": "103667a9-a51a-464d-bb33-2bc138699e91"
      },
      "source": [
        "probability_cutoff, f1_score_value = efficient_cutoff(y_train, logistic_predt_train_output)\n",
        "\n",
        "plt.xlabel(\"probability cutoff train value\")\n",
        "plt.axvline(x=0.4, color='b', label='axvline - full height')\n",
        "plt.ylabel(\"f1_score train\")\n",
        "plt.plot(probability_cutoff, f1_score_value)\n",
        "plt.show()\n",
        "\n",
        "probability_cutoff, f1_score_value = efficient_cutoff(y_test, logistic_predt_test_output)\n",
        "\n",
        "plt.xlabel(\"probability cutoff test value\")\n",
        "plt.axvline(x=0.4, color='b', label='axvline - full height')\n",
        "plt.ylabel(\"f1_score test\")\n",
        "plt.plot(probability_cutoff, f1_score_value)\n",
        "plt.show()"
      ],
      "execution_count": null,
      "outputs": [
        {
          "output_type": "execute_result",
          "data": {
            "text/plain": [
              "Text(0.5, 0, 'probability cutoff train value')"
            ]
          },
          "metadata": {},
          "execution_count": 69
        },
        {
          "output_type": "execute_result",
          "data": {
            "text/plain": [
              "<matplotlib.lines.Line2D at 0x7feb699794d0>"
            ]
          },
          "metadata": {},
          "execution_count": 69
        },
        {
          "output_type": "execute_result",
          "data": {
            "text/plain": [
              "Text(0, 0.5, 'f1_score train')"
            ]
          },
          "metadata": {},
          "execution_count": 69
        },
        {
          "output_type": "execute_result",
          "data": {
            "text/plain": [
              "[<matplotlib.lines.Line2D at 0x7feb644dab50>]"
            ]
          },
          "metadata": {},
          "execution_count": 69
        },
        {
          "output_type": "display_data",
          "data": {
            "image/png": "[encoded data removed]",
            "text/plain": [
              "<Figure size 432x288 with 1 Axes>"
            ]
          },
          "metadata": {
            "needs_background": "light"
          }
        },
        {
          "output_type": "execute_result",
          "data": {
            "text/plain": [
              "Text(0.5, 0, 'probability cutoff test value')"
            ]
          },
          "metadata": {},
          "execution_count": 69
        },
        {
          "output_type": "execute_result",
          "data": {
            "text/plain": [
              "<matplotlib.lines.Line2D at 0x7feb69ca3890>"
            ]
          },
          "metadata": {},
          "execution_count": 69
        },
        {
          "output_type": "execute_result",
          "data": {
            "text/plain": [
              "Text(0, 0.5, 'f1_score test')"
            ]
          },
          "metadata": {},
          "execution_count": 69
        },
        {
          "output_type": "execute_result",
          "data": {
            "text/plain": [
              "[<matplotlib.lines.Line2D at 0x7feb699d1490>]"
            ]
          },
          "metadata": {},
          "execution_count": 69
        },
        {
          "output_type": "display_data",
          "data": {
            "image/png": "[encoded data removed]",
            "text/plain": [
              "<Figure size 432x288 with 1 Axes>"
            ]
          },
          "metadata": {
            "needs_background": "light"
          }
        }
      ]
    },
    {
      "cell_type": "markdown",
      "metadata": {
        "id": "5c_9lNnclFIZ"
      },
      "source": [
        "### Q4.2 Build Random Forest classifier to compare model accuracy over the logistic regression model\n"
      ]
    },
    {
      "cell_type": "code",
      "metadata": {
        "id": "-PqkT3eRlFIa",
        "colab": {
          "base_uri": "https://localhost:8080/"
        },
        "outputId": "073d61e9-5825-4854-a7f1-98274cf7eaea"
      },
      "source": [
        "#-------------------------------- Model training -------------------------------#\n",
        "\n",
        "#type your code to build random forest classifier model on training data set\n",
        "from sklearn.ensemble import RandomForestClassifier\n",
        "clf= RandomForestClassifier(max_depth= 15, min_samples_split=50, random_state=40, criterion = \"entropy\", n_estimators= 350, n_jobs=-1)\n",
        "clf.fit(X_train, y_train)\n",
        "\n"
      ],
      "execution_count": null,
      "outputs": [
        {
          "output_type": "execute_result",
          "data": {
            "text/plain": [
              "RandomForestClassifier(bootstrap=True, ccp_alpha=0.0, class_weight=None,\n",
              "                       criterion='entropy', max_depth=15, max_features='auto',\n",
              "                       max_leaf_nodes=None, max_samples=None,\n",
              "                       min_impurity_decrease=0.0, min_impurity_split=None,\n",
              "                       min_samples_leaf=1, min_samples_split=50,\n",
              "                       min_weight_fraction_leaf=0.0, n_estimators=350,\n",
              "                       n_jobs=-1, oob_score=False, random_state=40, verbose=0,\n",
              "                       warm_start=False)"
            ]
          },
          "metadata": {},
          "execution_count": 71
        }
      ]
    },
    {
      "cell_type": "code",
      "metadata": {
        "id": "yoMJOpkvlFIa",
        "colab": {
          "base_uri": "https://localhost:8080/",
          "height": 296
        },
        "outputId": "01e05844-5e0a-4bc7-fb11-9fed07584054"
      },
      "source": [
        "#-------------------------------- Model testing ---------------------------------#\n",
        "\n",
        "#type your code here to predict for X_test data set using the fitted RF model\n",
        "rf_train_output= clf.predict_proba(X_train)[:,1]\n",
        "rf_test_output= clf.predict_proba(X_test)[:,1]\n",
        "\n",
        "\n",
        "#Use a probability threshold to classify customers as churners and non churners (Default = 0.5)\n",
        "#plotting the f1-score vs the probability cutoff score\n",
        "probability_cutoff, f1_score_value = efficient_cutoff(y_train, rf_train_output)\n",
        "\n",
        "plt.axvline(x=0.52, color='b', label = 'axvline - full height')\n",
        "plt.xlabel(\"probability cutoff value train\")\n",
        "plt.ylabel(\"f1_score train\")\n",
        "plt.plot(probability_cutoff, f1_score_value)\n",
        "plt.show()\n",
        "#Evaluate model accuracy using fitted y value and actual y_test\n",
        "#Evaluatio metrics to be used - GINI, Precision, Recall, confusion matrix\n",
        "\n"
      ],
      "execution_count": null,
      "outputs": [
        {
          "output_type": "execute_result",
          "data": {
            "text/plain": [
              "<matplotlib.lines.Line2D at 0x7feb6f1c06d0>"
            ]
          },
          "metadata": {},
          "execution_count": 72
        },
        {
          "output_type": "execute_result",
          "data": {
            "text/plain": [
              "Text(0.5, 0, 'probability cutoff value train')"
            ]
          },
          "metadata": {},
          "execution_count": 72
        },
        {
          "output_type": "execute_result",
          "data": {
            "text/plain": [
              "Text(0, 0.5, 'f1_score train')"
            ]
          },
          "metadata": {},
          "execution_count": 72
        },
        {
          "output_type": "execute_result",
          "data": {
            "text/plain": [
              "[<matplotlib.lines.Line2D at 0x7feb795fac50>]"
            ]
          },
          "metadata": {},
          "execution_count": 72
        },
        {
          "output_type": "display_data",
          "data": {
            "image/png": "[encoded data removed]",
            "text/plain": [
              "<Figure size 432x288 with 1 Axes>"
            ]
          },
          "metadata": {
            "needs_background": "light"
          }
        }
      ]
    },
    {
      "cell_type": "markdown",
      "metadata": {
        "id": "iKAR6bUolFIb"
      },
      "source": [
        "<mark>__Result:__\n",
        "    \n",
        "Type your answer from the model building exercise here, i.e., which model has better accuracy and using what metrics?\n",
        "\n",
        "\n",
        "the random forest has better predicitve capability. we have selected cutoff value in order to maximize f1 score"
      ]
    },
    {
      "cell_type": "markdown",
      "metadata": {
        "id": "AixoKv9GlFIb"
      },
      "source": [
        "### Q4.3 Identify most important features impacting churn"
      ]
    },
    {
      "cell_type": "code",
      "metadata": {
        "id": "S3PDkjUGvqNf"
      },
      "source": [
        "W24t43 45678-"
      ],
      "execution_count": null,
      "outputs": []
    },
    {
      "cell_type": "code",
      "metadata": {
        "id": "k4T4iPJilFIc",
        "colab": {
          "base_uri": "https://localhost:8080/",
          "height": 624
        },
        "outputId": "2e7b6e0e-8747-4d7e-9ef5-9f87736dd7ef"
      },
      "source": [
        "# Type your code here to plot the top 20 important predictor features impacting churn using the Random Forest model created\n",
        "\n",
        "feat_importances= pd.Series(clf.feature_importances_, index=X_train.columns)\n",
        "plt.figure(figsize=(5,10))\n",
        "plt.title(\"feature importance plot\")\n",
        "feat_importances.nlargest(20).sort_values(ascending=True).plot(kind='barh',)"
      ],
      "execution_count": null,
      "outputs": [
        {
          "output_type": "execute_result",
          "data": {
            "text/plain": [
              "<Figure size 360x720 with 0 Axes>"
            ]
          },
          "metadata": {},
          "execution_count": 73
        },
        {
          "output_type": "execute_result",
          "data": {
            "text/plain": [
              "Text(0.5, 1.0, 'feature importance plot')"
            ]
          },
          "metadata": {},
          "execution_count": 73
        },
        {
          "output_type": "execute_result",
          "data": {
            "text/plain": [
              "<matplotlib.axes._subplots.AxesSubplot at 0x7feb6f1964d0>"
            ]
          },
          "metadata": {},
          "execution_count": 73
        },
        {
          "output_type": "display_data",
          "data": {
            "image/png": "[encoded data removed]",
            "text/plain": [
              "<Figure size 360x720 with 1 Axes>"
            ]
          },
          "metadata": {
            "needs_background": "light"
          }
        }
      ]
    },
    {
      "cell_type": "markdown",
      "metadata": {
        "id": "b34fvkuvlFId"
      },
      "source": [
        "## Q5. [Bonus Question] Use the hold out data provided to predict churners using the best model identified in step 4 "
      ]
    },
    {
      "cell_type": "code",
      "metadata": {
        "id": "inhr0oBulFIe"
      },
      "source": [
        "#Type your code here to predict churners based on the hold out data set provided\n",
        "#Note #1: use \"create_features(cust_df)\" functions to create the additional list of features in the hold out data set\n",
        "#Note #2: Also, perform feature scaling and dummy variables creation as performed during the initial stages of step #4\n",
        "\n",
        "#Use \"predict\" function on the transformend data using the best fitted model object\n",
        "\n"
      ],
      "execution_count": null,
      "outputs": []
    },
    {
      "cell_type": "markdown",
      "metadata": {
        "id": "abauS3GolFIe"
      },
      "source": [
        "## Q6. [Bonus Question] Calculate lift chart and total monthly revenue saved by targeting top 10-20% of the customers using your best predictive model"
      ]
    },
    {
      "cell_type": "code",
      "metadata": {
        "id": "6q6go8_olFIe"
      },
      "source": [
        "#Type your code here to plot the lift chart from the best model\n",
        "#Identify the lift i.e. 3x of capturing churn with and without using the model \n",
        "#(Assume: only top 20% high risk customers are to be targetted)\n",
        "\n",
        "\n",
        "\n",
        "\n"
      ],
      "execution_count": null,
      "outputs": []
    },
    {
      "cell_type": "markdown",
      "metadata": {
        "id": "5BCprZwTlFIe"
      },
      "source": [
        "<mark>__Result:__\n",
        "    \n",
        "1. What is the % actual churn captured by targeting top 20% (top 2 deciles) of the customers sorted by their churn probability?\n",
        "2. What is the total monthly revenue of actual churn customers identified in the top 20% of the customers?\n",
        "   "
      ]
    }
  ]
}